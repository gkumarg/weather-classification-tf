{
 "cells": [
  {
   "cell_type": "code",
   "execution_count": 1,
   "metadata": {},
   "outputs": [
    {
     "name": "stderr",
     "output_type": "stream",
     "text": [
      "2023-12-28 21:39:38.290915: E tensorflow/compiler/xla/stream_executor/cuda/cuda_dnn.cc:9342] Unable to register cuDNN factory: Attempting to register factory for plugin cuDNN when one has already been registered\n",
      "2023-12-28 21:39:38.290965: E tensorflow/compiler/xla/stream_executor/cuda/cuda_fft.cc:609] Unable to register cuFFT factory: Attempting to register factory for plugin cuFFT when one has already been registered\n",
      "2023-12-28 21:39:38.290973: E tensorflow/compiler/xla/stream_executor/cuda/cuda_blas.cc:1518] Unable to register cuBLAS factory: Attempting to register factory for plugin cuBLAS when one has already been registered\n",
      "2023-12-28 21:39:38.299332: I tensorflow/core/platform/cpu_feature_guard.cc:182] This TensorFlow binary is optimized to use available CPU instructions in performance-critical operations.\n",
      "To enable the following instructions: SSE4.1 SSE4.2 AVX AVX2 FMA, in other operations, rebuild TensorFlow with the appropriate compiler flags.\n"
     ]
    }
   ],
   "source": [
    "import tensorflow as tf\n",
    "import numpy as np"
   ]
  },
  {
   "cell_type": "code",
   "execution_count": 2,
   "metadata": {},
   "outputs": [
    {
     "name": "stderr",
     "output_type": "stream",
     "text": [
      "INFO: Created TensorFlow Lite XNNPACK delegate for CPU.\n"
     ]
    }
   ],
   "source": [
    "interpreter = tf.lite.Interpreter(model_path=\"MobileNetv2.tflite\")\n",
    "interpreter.allocate_tensors()\n",
    "input_index = interpreter.get_input_details()[0][\"index\"]\n",
    "output_index = interpreter.get_output_details()[0][\"index\"]"
   ]
  },
  {
   "cell_type": "code",
   "execution_count": 16,
   "metadata": {},
   "outputs": [
    {
     "name": "stdout",
     "output_type": "stream",
     "text": [
      "6\n",
      "rain\n"
     ]
    }
   ],
   "source": [
    "import requests \n",
    "from io import BytesIO\n",
    "from tensorflow.keras.preprocessing import image\n",
    "from PIL import Image\n",
    "import io\n",
    "\n",
    "# Testing with URL\n",
    "image_url = 'https://upload.wikimedia.org/wikipedia/commons/thumb/9/9b/Rain_falling.JPG/450px-Rain_falling.JPG'\n",
    "# Download the image\n",
    "response = requests.get(image_url)\n",
    "# print(response)\n",
    "# Open the image file object in binary mode\n",
    "image_data = BytesIO(response.content)\n",
    "# print(image_data)\n",
    "# Load the image into numpy array\n",
    "img = np.array(Image.open(image_data).resize((224, 224)))\n",
    "\n",
    "x = image.img_to_array(img) / 255.0\n",
    "img_array = np.array([x])\n",
    "\n",
    "interpreter.set_tensor(input_index, img_array)\n",
    "interpreter.invoke()\n",
    "predictions = interpreter.get_tensor(output_index)\n",
    "\n",
    "# predictions = model.predict(img_array)\n",
    "index = np.argmax(predictions[0])\n",
    "print(index)\n",
    "\n",
    "classes = {0: 'dew',\n",
    "            1: 'fogsmog',\n",
    "            2: 'frost',\n",
    "            3: 'glaze',\n",
    "            4: 'hail',\n",
    "            5: 'lightning',\n",
    "            6: 'rain',\n",
    "            7: 'rainbow',\n",
    "            8: 'rime',\n",
    "            9: 'sandstorm',\n",
    "            10: 'snow'}\n",
    "    \n",
    "top_prediction = classes[index]\n",
    "\n",
    "print(top_prediction)"
   ]
  }
 ],
 "metadata": {
  "kernelspec": {
   "display_name": "weathertf",
   "language": "python",
   "name": "python3"
  },
  "language_info": {
   "codemirror_mode": {
    "name": "ipython",
    "version": 3
   },
   "file_extension": ".py",
   "mimetype": "text/x-python",
   "name": "python",
   "nbconvert_exporter": "python",
   "pygments_lexer": "ipython3",
   "version": "3.9.13"
  }
 },
 "nbformat": 4,
 "nbformat_minor": 2
}
